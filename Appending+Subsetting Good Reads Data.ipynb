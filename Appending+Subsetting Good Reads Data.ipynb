{
 "cells": [
  {
   "cell_type": "code",
   "execution_count": 1,
   "id": "c90c51af",
   "metadata": {},
   "outputs": [],
   "source": [
    "import pandas as pd\n",
    "import seaborn as sns\n",
    "import numpy as np \n",
    "import csv"
   ]
  },
  {
   "cell_type": "code",
   "execution_count": 4,
   "id": "cd8b8c01",
   "metadata": {},
   "outputs": [],
   "source": [
    "b1 = pd.read_csv(\"book1-100k.csv\")\n",
    "b2 = pd.read_csv(\"book100k-200k.csv\")\n",
    "b3 = pd.read_csv(\"book200k-300k.csv\")\n",
    "b4 = pd.read_csv(\"book300k-400k.csv\")\n",
    "b5 = pd.read_csv(\"book400k-500k.csv\")\n",
    "b6 = pd.read_csv(\"book500k-600k.csv\")\n",
    "b7 = pd.read_csv(\"book600k-700k.csv\")\n",
    "b8 = pd.read_csv(\"book700k-800k.csv\")\n",
    "b9 = pd.read_csv(\"book800k-900k.csv\")\n",
    "b10 = pd.read_csv(\"book900k-1000k.csv\")\n",
    "b11 = pd.read_csv(\"book1000k-1100k.csv\")\n",
    "b12 = pd.read_csv(\"book1100k-1200k.csv\")\n",
    "b13 = pd.read_csv(\"book1200k-1300k.csv\")\n",
    "b14 = pd.read_csv(\"book1300k-1400k.csv\")\n",
    "b15 = pd.read_csv(\"book1400k-1500k.csv\")\n",
    "b16 = pd.read_csv(\"book1500k-1600k.csv\")\n",
    "b17 = pd.read_csv(\"book1600k-1700k.csv\")\n",
    "b18 = pd.read_csv(\"book1700k-1800k.csv\")\n",
    "b19 = pd.read_csv(\"book1800k-1900k.csv\")\n",
    "b20 = pd.read_csv(\"book1900k-2000k.csv\")\n",
    "b21 = pd.read_csv(\"book2000k-3000k.csv\")\n",
    "b22 = pd.read_csv(\"book3000k-4000k.csv\")\n",
    "b23 = pd.read_csv(\"book4000k-5000k.csv\")"
   ]
  },
  {
   "cell_type": "code",
   "execution_count": 5,
   "id": "fb3cfb80",
   "metadata": {},
   "outputs": [
    {
     "name": "stdout",
     "output_type": "stream",
     "text": [
      "(58292, 18)\n",
      "(57046, 18)\n",
      "(56182, 18)\n",
      "(56586, 18)\n",
      "(55155, 18)\n",
      "(54859, 18)\n",
      "(55156, 19)\n",
      "(54273, 20)\n",
      "(49843, 20)\n",
      "(40890, 20)\n",
      "(39705, 20)\n",
      "(41892, 20)\n",
      "(43622, 20)\n",
      "(38288, 20)\n",
      "(34759, 20)\n",
      "(33439, 20)\n",
      "(32986, 20)\n",
      "(32105, 19)\n",
      "(38863, 19)\n",
      "(43561, 19)\n",
      "(395957, 19)\n",
      "(256595, 19)\n",
      "(280256, 19)\n"
     ]
    }
   ],
   "source": [
    "print(b1.shape)\n",
    "print(b2.shape)\n",
    "print(b3.shape)\n",
    "print(b4.shape)\n",
    "print(b5.shape)\n",
    "print(b6.shape)\n",
    "print(b7.shape)\n",
    "print(b8.shape)\n",
    "print(b9.shape)\n",
    "print(b10.shape)\n",
    "print(b11.shape)\n",
    "print(b12.shape)\n",
    "print(b13.shape)\n",
    "print(b14.shape)\n",
    "print(b15.shape)\n",
    "print(b16.shape)\n",
    "print(b17.shape)\n",
    "print(b18.shape)\n",
    "print(b19.shape)\n",
    "print(b20.shape)\n",
    "print(b21.shape)\n",
    "print(b22.shape)\n",
    "print(b23.shape)"
   ]
  },
  {
   "cell_type": "code",
   "execution_count": 6,
   "id": "1c1d5618",
   "metadata": {},
   "outputs": [
    {
     "data": {
      "text/plain": [
       "Index(['Id', 'Name', 'RatingDist1', 'pagesNumber', 'RatingDist4',\n",
       "       'RatingDistTotal', 'PublishMonth', 'PublishDay', 'Publisher',\n",
       "       'CountsOfReview', 'PublishYear', 'Language', 'Authors', 'Rating',\n",
       "       'RatingDist2', 'RatingDist5', 'ISBN', 'RatingDist3'],\n",
       "      dtype='object')"
      ]
     },
     "execution_count": 6,
     "metadata": {},
     "output_type": "execute_result"
    }
   ],
   "source": [
    "b1.columns"
   ]
  },
  {
   "cell_type": "code",
   "execution_count": 7,
   "id": "03abc9df",
   "metadata": {
    "scrolled": true
   },
   "outputs": [
    {
     "data": {
      "text/plain": [
       "Index(['Id', 'Name', 'Authors', 'ISBN', 'Rating', 'PublishYear',\n",
       "       'PublishMonth', 'PublishDay', 'Publisher', 'RatingDist5', 'RatingDist4',\n",
       "       'RatingDist3', 'RatingDist2', 'RatingDist1', 'RatingDistTotal',\n",
       "       'CountsOfReview', 'Language', 'pagesNumber', 'Description'],\n",
       "      dtype='object')"
      ]
     },
     "execution_count": 7,
     "metadata": {},
     "output_type": "execute_result"
    }
   ],
   "source": [
    "b7.columns"
   ]
  },
  {
   "cell_type": "code",
   "execution_count": 8,
   "id": "05dc855b",
   "metadata": {},
   "outputs": [],
   "source": [
    "Btest = pd.concat([b1,b6,b14])"
   ]
  },
  {
   "cell_type": "code",
   "execution_count": 9,
   "id": "99bfdf56",
   "metadata": {},
   "outputs": [
    {
     "data": {
      "text/plain": [
       "Index(['Id', 'Name', 'RatingDist1', 'pagesNumber', 'RatingDist4',\n",
       "       'RatingDistTotal', 'PublishMonth', 'PublishDay', 'Publisher',\n",
       "       'CountsOfReview', 'PublishYear', 'Language', 'Authors', 'Rating',\n",
       "       'RatingDist2', 'RatingDist5', 'ISBN', 'RatingDist3', 'Description',\n",
       "       'Count of text reviews'],\n",
       "      dtype='object')"
      ]
     },
     "execution_count": 9,
     "metadata": {},
     "output_type": "execute_result"
    }
   ],
   "source": [
    "Btest.columns"
   ]
  },
  {
   "cell_type": "code",
   "execution_count": 11,
   "id": "92c94c60",
   "metadata": {
    "scrolled": true
   },
   "outputs": [
    {
     "data": {
      "text/html": [
       "<div>\n",
       "<style scoped>\n",
       "    .dataframe tbody tr th:only-of-type {\n",
       "        vertical-align: middle;\n",
       "    }\n",
       "\n",
       "    .dataframe tbody tr th {\n",
       "        vertical-align: top;\n",
       "    }\n",
       "\n",
       "    .dataframe thead th {\n",
       "        text-align: right;\n",
       "    }\n",
       "</style>\n",
       "<table border=\"1\" class=\"dataframe\">\n",
       "  <thead>\n",
       "    <tr style=\"text-align: right;\">\n",
       "      <th></th>\n",
       "      <th>Id</th>\n",
       "      <th>Name</th>\n",
       "      <th>RatingDist1</th>\n",
       "      <th>pagesNumber</th>\n",
       "      <th>RatingDist4</th>\n",
       "      <th>RatingDistTotal</th>\n",
       "      <th>PublishMonth</th>\n",
       "      <th>PublishDay</th>\n",
       "      <th>Publisher</th>\n",
       "      <th>CountsOfReview</th>\n",
       "      <th>PublishYear</th>\n",
       "      <th>Language</th>\n",
       "      <th>Authors</th>\n",
       "      <th>Rating</th>\n",
       "      <th>RatingDist2</th>\n",
       "      <th>RatingDist5</th>\n",
       "      <th>ISBN</th>\n",
       "      <th>RatingDist3</th>\n",
       "      <th>Description</th>\n",
       "      <th>Count of text reviews</th>\n",
       "    </tr>\n",
       "  </thead>\n",
       "  <tbody>\n",
       "    <tr>\n",
       "      <th>38283</th>\n",
       "      <td>1399990</td>\n",
       "      <td>The Apocryphal Acts of Paul, Peter, John, Andr...</td>\n",
       "      <td>1:1</td>\n",
       "      <td>376</td>\n",
       "      <td>4:0</td>\n",
       "      <td>total:2</td>\n",
       "      <td>1</td>\n",
       "      <td>5</td>\n",
       "      <td>Wipf &amp; Stock Publishers</td>\n",
       "      <td>0</td>\n",
       "      <td>2006</td>\n",
       "      <td>NaN</td>\n",
       "      <td>Bernhard Pick</td>\n",
       "      <td>2.00</td>\n",
       "      <td>2:0</td>\n",
       "      <td>5:0</td>\n",
       "      <td>1597526738</td>\n",
       "      <td>3:1</td>\n",
       "      <td>This work has been selected by scholars as bei...</td>\n",
       "      <td>0.0</td>\n",
       "    </tr>\n",
       "    <tr>\n",
       "      <th>38284</th>\n",
       "      <td>1399991</td>\n",
       "      <td>Mr. Lincoln's Brown Water Navy: The Mississipp...</td>\n",
       "      <td>1:1</td>\n",
       "      <td>199</td>\n",
       "      <td>4:5</td>\n",
       "      <td>total:19</td>\n",
       "      <td>26</td>\n",
       "      <td>7</td>\n",
       "      <td>Rl</td>\n",
       "      <td>4</td>\n",
       "      <td>2007</td>\n",
       "      <td>NaN</td>\n",
       "      <td>Gary Joiner</td>\n",
       "      <td>3.26</td>\n",
       "      <td>2:2</td>\n",
       "      <td>5:2</td>\n",
       "      <td>0742550982</td>\n",
       "      <td>3:9</td>\n",
       "      <td>The Union inland navy that became the Mississi...</td>\n",
       "      <td>4.0</td>\n",
       "    </tr>\n",
       "    <tr>\n",
       "      <th>38285</th>\n",
       "      <td>1399992</td>\n",
       "      <td>Une vérité qui dérange: l'urgence planétaire d...</td>\n",
       "      <td>1:321</td>\n",
       "      <td>327</td>\n",
       "      <td>4:2288</td>\n",
       "      <td>total:6168</td>\n",
       "      <td>19</td>\n",
       "      <td>2</td>\n",
       "      <td>Éditions de La Martinière</td>\n",
       "      <td>0</td>\n",
       "      <td>2007</td>\n",
       "      <td>NaN</td>\n",
       "      <td>Al Gore</td>\n",
       "      <td>3.77</td>\n",
       "      <td>2:380</td>\n",
       "      <td>5:1744</td>\n",
       "      <td>2732435503</td>\n",
       "      <td>3:1435</td>\n",
       "      <td>&lt;i&gt;An Inconvenient Truth&lt;/i&gt;—Gore's groundbrea...</td>\n",
       "      <td>0.0</td>\n",
       "    </tr>\n",
       "    <tr>\n",
       "      <th>38286</th>\n",
       "      <td>1399993</td>\n",
       "      <td>Shug</td>\n",
       "      <td>1:189</td>\n",
       "      <td>256</td>\n",
       "      <td>4:3495</td>\n",
       "      <td>total:10321</td>\n",
       "      <td>23</td>\n",
       "      <td>10</td>\n",
       "      <td>Simon  Schuster Books for Young Readers</td>\n",
       "      <td>51</td>\n",
       "      <td>2007</td>\n",
       "      <td>NaN</td>\n",
       "      <td>Jenny Han</td>\n",
       "      <td>3.99</td>\n",
       "      <td>2:546</td>\n",
       "      <td>5:3815</td>\n",
       "      <td>1416909435</td>\n",
       "      <td>3:2276</td>\n",
       "      <td>Annemarie “Shug” Wilcox is clever and brave an...</td>\n",
       "      <td>51.0</td>\n",
       "    </tr>\n",
       "    <tr>\n",
       "      <th>38287</th>\n",
       "      <td>1399995</td>\n",
       "      <td>Urgence planète Terre: l'esprit humain face à ...</td>\n",
       "      <td>1:45</td>\n",
       "      <td>389</td>\n",
       "      <td>4:506</td>\n",
       "      <td>total:1354</td>\n",
       "      <td>13</td>\n",
       "      <td>4</td>\n",
       "      <td>Alphée</td>\n",
       "      <td>0</td>\n",
       "      <td>2007</td>\n",
       "      <td>NaN</td>\n",
       "      <td>Al Gore</td>\n",
       "      <td>3.79</td>\n",
       "      <td>2:90</td>\n",
       "      <td>5:372</td>\n",
       "      <td>2753802297</td>\n",
       "      <td>3:341</td>\n",
       "      <td>&lt;div&gt;\\n  &lt;div&gt;Re-released on the heels of Al G...</td>\n",
       "      <td>0.0</td>\n",
       "    </tr>\n",
       "  </tbody>\n",
       "</table>\n",
       "</div>"
      ],
      "text/plain": [
       "            Id                                               Name RatingDist1  \\\n",
       "38283  1399990  The Apocryphal Acts of Paul, Peter, John, Andr...         1:1   \n",
       "38284  1399991  Mr. Lincoln's Brown Water Navy: The Mississipp...         1:1   \n",
       "38285  1399992  Une vérité qui dérange: l'urgence planétaire d...       1:321   \n",
       "38286  1399993                                               Shug       1:189   \n",
       "38287  1399995  Urgence planète Terre: l'esprit humain face à ...        1:45   \n",
       "\n",
       "       pagesNumber RatingDist4 RatingDistTotal  PublishMonth  PublishDay  \\\n",
       "38283          376         4:0         total:2             1           5   \n",
       "38284          199         4:5        total:19            26           7   \n",
       "38285          327      4:2288      total:6168            19           2   \n",
       "38286          256      4:3495     total:10321            23          10   \n",
       "38287          389       4:506      total:1354            13           4   \n",
       "\n",
       "                                     Publisher  CountsOfReview  PublishYear  \\\n",
       "38283                  Wipf & Stock Publishers               0         2006   \n",
       "38284                                       Rl               4         2007   \n",
       "38285                Éditions de La Martinière               0         2007   \n",
       "38286  Simon  Schuster Books for Young Readers              51         2007   \n",
       "38287                                   Alphée               0         2007   \n",
       "\n",
       "      Language        Authors  Rating RatingDist2 RatingDist5        ISBN  \\\n",
       "38283      NaN  Bernhard Pick    2.00         2:0         5:0  1597526738   \n",
       "38284      NaN    Gary Joiner    3.26         2:2         5:2  0742550982   \n",
       "38285      NaN        Al Gore    3.77       2:380      5:1744  2732435503   \n",
       "38286      NaN      Jenny Han    3.99       2:546      5:3815  1416909435   \n",
       "38287      NaN        Al Gore    3.79        2:90       5:372  2753802297   \n",
       "\n",
       "      RatingDist3                                        Description  \\\n",
       "38283         3:1  This work has been selected by scholars as bei...   \n",
       "38284         3:9  The Union inland navy that became the Mississi...   \n",
       "38285      3:1435  <i>An Inconvenient Truth</i>—Gore's groundbrea...   \n",
       "38286      3:2276  Annemarie “Shug” Wilcox is clever and brave an...   \n",
       "38287       3:341  <div>\\n  <div>Re-released on the heels of Al G...   \n",
       "\n",
       "       Count of text reviews  \n",
       "38283                    0.0  \n",
       "38284                    4.0  \n",
       "38285                    0.0  \n",
       "38286                   51.0  \n",
       "38287                    0.0  "
      ]
     },
     "execution_count": 11,
     "metadata": {},
     "output_type": "execute_result"
    }
   ],
   "source": [
    "Btest.tail()"
   ]
  },
  {
   "cell_type": "code",
   "execution_count": 12,
   "id": "4a0f548d",
   "metadata": {},
   "outputs": [],
   "source": [
    "booksdf = pd.concat([b1,b2,b3,b4,b5,b6,b7,b8,b9,b10,b11,b12,b13,b14,b15,b16,b17,b18,b19,b20,b21,b22,b23], axis=0)"
   ]
  },
  {
   "cell_type": "code",
   "execution_count": 14,
   "id": "915bd05a",
   "metadata": {
    "scrolled": true
   },
   "outputs": [
    {
     "data": {
      "text/plain": [
       "Index(['Id', 'Name', 'RatingDist1', 'pagesNumber', 'RatingDist4',\n",
       "       'RatingDistTotal', 'PublishMonth', 'PublishDay', 'Publisher',\n",
       "       'CountsOfReview', 'PublishYear', 'Language', 'Authors', 'Rating',\n",
       "       'RatingDist2', 'RatingDist5', 'ISBN', 'RatingDist3', 'Description',\n",
       "       'Count of text reviews', 'PagesNumber'],\n",
       "      dtype='object')"
      ]
     },
     "execution_count": 14,
     "metadata": {},
     "output_type": "execute_result"
    }
   ],
   "source": [
    "booksdf.columns"
   ]
  },
  {
   "cell_type": "code",
   "execution_count": 16,
   "id": "a5351cbd",
   "metadata": {},
   "outputs": [
    {
     "data": {
      "text/plain": [
       "(1850310, 21)"
      ]
     },
     "execution_count": 16,
     "metadata": {},
     "output_type": "execute_result"
    }
   ],
   "source": [
    "booksdf.shape"
   ]
  },
  {
   "cell_type": "code",
   "execution_count": 20,
   "id": "4846e7d4",
   "metadata": {},
   "outputs": [
    {
     "name": "stdout",
     "output_type": "stream",
     "text": [
      "eng      180338\n",
      "en-US     21489\n",
      "fre       16327\n",
      "ger       11470\n",
      "en-GB      7767\n",
      "          ...  \n",
      "tam           1\n",
      "kan           1\n",
      "lao           1\n",
      "isl           1\n",
      "tli           1\n",
      "Name: Language, Length: 124, dtype: int64\n"
     ]
    }
   ],
   "source": [
    "print(booksdf.Language.value_counts())"
   ]
  },
  {
   "cell_type": "code",
   "execution_count": 21,
   "id": "71fb02c0",
   "metadata": {
    "scrolled": false
   },
   "outputs": [
    {
     "name": "stdout",
     "output_type": "stream",
     "text": [
      "2007    129507\n",
      "2006    122374\n",
      "2005    117639\n",
      "2004    105733\n",
      "2003    104345\n",
      "         ...  \n",
      "1841         1\n",
      "1839         1\n",
      "4989         1\n",
      "1837         1\n",
      "2035         1\n",
      "Name: PublishYear, Length: 199, dtype: int64\n"
     ]
    }
   ],
   "source": [
    "print(booksdf.PublishYear.value_counts())"
   ]
  },
  {
   "cell_type": "code",
   "execution_count": null,
   "id": "af6d2492",
   "metadata": {},
   "outputs": [],
   "source": [
    "#I KNOW I'm not supposed to do any analysis in Python, but literally just making this histogram to see where to split data set into High rated books and low rated books!"
   ]
  },
  {
   "cell_type": "code",
   "execution_count": 30,
   "id": "14d37188",
   "metadata": {
    "scrolled": true
   },
   "outputs": [
    {
     "data": {
      "text/plain": [
       "<AxesSubplot:>"
      ]
     },
     "execution_count": 30,
     "metadata": {},
     "output_type": "execute_result"
    },
    {
     "data": {
      "image/png": "[encoded data removed]",
      "text/plain": [
       "<Figure size 432x288 with 1 Axes>"
      ]
     },
     "metadata": {
      "needs_background": "light"
     },
     "output_type": "display_data"
    }
   ],
   "source": [
    "booksdf.Rating.hist()"
   ]
  },
  {
   "cell_type": "code",
   "execution_count": null,
   "id": "016964ee",
   "metadata": {},
   "outputs": [],
   "source": [
    "#Oh INTERSTESTING - Because Most intersted in books with active ratings, will drop books with ratings less than 1 (lowest possible on Good Reads), split into \"High\" and \"Low\" data sets and export datasets"
   ]
  },
  {
   "cell_type": "code",
   "execution_count": 36,
   "id": "ffd52295",
   "metadata": {},
   "outputs": [],
   "source": [
    "booksdfFinal = booksdf[booksdf.Rating >= 1]"
   ]
  },
  {
   "cell_type": "code",
   "execution_count": 37,
   "id": "bdf01f2e",
   "metadata": {},
   "outputs": [
    {
     "data": {
      "text/plain": [
       "<AxesSubplot:>"
      ]
     },
     "execution_count": 37,
     "metadata": {},
     "output_type": "execute_result"
    },
    {
     "data": {
      "image/png": "[encoded data removed]",
      "text/plain": [
       "<Figure size 432x288 with 1 Axes>"
      ]
     },
     "metadata": {
      "needs_background": "light"
     },
     "output_type": "display_data"
    }
   ],
   "source": [
    "booksdfFinal.Rating.hist()"
   ]
  },
  {
   "cell_type": "code",
   "execution_count": 38,
   "id": "b62932a0",
   "metadata": {
    "scrolled": true
   },
   "outputs": [
    {
     "data": {
      "text/plain": [
       "(1398527, 21)"
      ]
     },
     "execution_count": 38,
     "metadata": {},
     "output_type": "execute_result"
    }
   ],
   "source": [
    "booksdfFinal.shape"
   ]
  },
  {
   "cell_type": "code",
   "execution_count": 47,
   "id": "12092034",
   "metadata": {},
   "outputs": [
    {
     "data": {
      "text/plain": [
       "Index(['Id', 'Name', 'RatingDist1', 'pagesNumber', 'RatingDist4',\n",
       "       'RatingDistTotal', 'PublishMonth', 'PublishDay', 'Publisher',\n",
       "       'CountsOfReview', 'PublishYear', 'Language', 'Authors', 'Rating',\n",
       "       'RatingDist2', 'RatingDist5', 'ISBN', 'RatingDist3', 'Description',\n",
       "       'Count of text reviews', 'PagesNumber'],\n",
       "      dtype='object')"
      ]
     },
     "execution_count": 47,
     "metadata": {},
     "output_type": "execute_result"
    }
   ],
   "source": [
    "booksdfFinal.columns"
   ]
  },
  {
   "cell_type": "code",
   "execution_count": 51,
   "id": "3ee79c4a",
   "metadata": {},
   "outputs": [
    {
     "data": {
      "text/plain": [
       "3.89"
      ]
     },
     "execution_count": 51,
     "metadata": {},
     "output_type": "execute_result"
    }
   ],
   "source": [
    "booksdfFinal.Rating.median() \n"
   ]
  },
  {
   "cell_type": "code",
   "execution_count": 52,
   "id": "009910fb",
   "metadata": {},
   "outputs": [
    {
     "data": {
      "text/plain": [
       "3.8292047275452594"
      ]
     },
     "execution_count": 52,
     "metadata": {},
     "output_type": "execute_result"
    }
   ],
   "source": [
    "booksdfFinal.Rating.mean()#Left Skewed Dist so splitting on mean even though not HUGE difference"
   ]
  },
  {
   "cell_type": "code",
   "execution_count": 53,
   "id": "4653db53",
   "metadata": {},
   "outputs": [],
   "source": [
    "booksHigh = booksdfFinal[booksdfFinal.Rating > 3.83]"
   ]
  },
  {
   "cell_type": "code",
   "execution_count": 54,
   "id": "5e5998a6",
   "metadata": {},
   "outputs": [],
   "source": [
    "booksLow = booksdfFinal[booksdfFinal.Rating <= 3.83]"
   ]
  },
  {
   "cell_type": "code",
   "execution_count": 55,
   "id": "4d98faf5",
   "metadata": {},
   "outputs": [
    {
     "data": {
      "text/plain": [
       "(761958, 21)"
      ]
     },
     "execution_count": 55,
     "metadata": {},
     "output_type": "execute_result"
    }
   ],
   "source": [
    "booksHigh.shape"
   ]
  },
  {
   "cell_type": "code",
   "execution_count": 56,
   "id": "ef2f7835",
   "metadata": {
    "scrolled": true
   },
   "outputs": [
    {
     "data": {
      "text/plain": [
       "(636569, 21)"
      ]
     },
     "execution_count": 56,
     "metadata": {},
     "output_type": "execute_result"
    }
   ],
   "source": [
    "booksLow.shape"
   ]
  },
  {
   "cell_type": "code",
   "execution_count": 57,
   "id": "106a3da0",
   "metadata": {},
   "outputs": [],
   "source": [
    "booksHigh.to_csv('HighRatedBooks.csv')"
   ]
  },
  {
   "cell_type": "code",
   "execution_count": 58,
   "id": "8002fc81",
   "metadata": {},
   "outputs": [],
   "source": [
    "booksLow.to_csv('LowRatedBooks.csv')"
   ]
  },
  {
   "cell_type": "code",
   "execution_count": null,
   "id": "c371274c",
   "metadata": {},
   "outputs": [],
   "source": []
  }
 ],
 "metadata": {
  "kernelspec": {
   "display_name": "Python 3",
   "language": "python",
   "name": "python3"
  },
  "language_info": {
   "codemirror_mode": {
    "name": "ipython",
    "version": 3
   },
   "file_extension": ".py",
   "mimetype": "text/x-python",
   "name": "python",
   "nbconvert_exporter": "python",
   "pygments_lexer": "ipython3",
   "version": "3.8.8"
  }
 },
 "nbformat": 4,
 "nbformat_minor": 5
}
