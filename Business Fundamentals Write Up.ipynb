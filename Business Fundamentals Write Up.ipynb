{
 "cells": [
  {
   "cell_type": "markdown",
   "id": "8b60a540",
   "metadata": {},
   "source": [
    "# Abstract"
   ]
  },
  {
   "cell_type": "markdown",
   "id": "a79db835",
   "metadata": {},
   "source": [
    "The goal of this analysis is to understand the current land scape of reader behavior and how this can be missed by traditional publishing houses. We know that the way that people are reading is changing and we know that people are looking forward to a growing representation in publishing moving forward. We know that publishing is overwhelmingly male and white, but does that work for who is most likely to read?"
   ]
  },
  {
   "cell_type": "markdown",
   "id": "5d26f074",
   "metadata": {},
   "source": [
    "# Design"
   ]
  },
  {
   "cell_type": "markdown",
   "id": "1058f1dc",
   "metadata": {},
   "source": [
    "Much of this analysis was done in Excel and Tableau -  working to create images that would communicate the story best. Additionally, this analysis required some Python to ingest this data appropriatley as well as \"fix\" sampling issues from the Pew Research Data Set"
   ]
  },
  {
   "cell_type": "markdown",
   "id": "d7cdca60",
   "metadata": {},
   "source": [
    "# Data"
   ]
  },
  {
   "cell_type": "markdown",
   "id": "1ab8cca4",
   "metadata": {},
   "source": [
    "Data was procured from Kaggle -  Using Pew Research Survey as well as Data from the GoodReads API (now defunct)"
   ]
  },
  {
   "cell_type": "markdown",
   "id": "691ab0ca",
   "metadata": {},
   "source": [
    "# Algorithms"
   ]
  },
  {
   "cell_type": "code",
   "execution_count": null,
   "id": "d2d3d20a",
   "metadata": {},
   "outputs": [],
   "source": [
    "Most of this analysis was done "
   ]
  },
  {
   "cell_type": "markdown",
   "id": "e0625692",
   "metadata": {},
   "source": [
    "# Tools"
   ]
  },
  {
   "cell_type": "markdown",
   "id": "176b8cbe",
   "metadata": {},
   "source": [
    "Excel, Google Sheets, Tableau, and Python was used to wrangle this data and present "
   ]
  },
  {
   "cell_type": "markdown",
   "id": "c094bd1d",
   "metadata": {},
   "source": [
    "# Communication"
   ]
  },
  {
   "cell_type": "markdown",
   "id": "22ea4a4e",
   "metadata": {},
   "source": [
    "Ultimatley this analysis is proof of concept with a Major Publishing House in Mind. The Data points to further research needed for publishing houses to adequatley meet the representation needs of modern readers. "
   ]
  }
 ],
 "metadata": {
  "kernelspec": {
   "display_name": "Python 3",
   "language": "python",
   "name": "python3"
  },
  "language_info": {
   "codemirror_mode": {
    "name": "ipython",
    "version": 3
   },
   "file_extension": ".py",
   "mimetype": "text/x-python",
   "name": "python",
   "nbconvert_exporter": "python",
   "pygments_lexer": "ipython3",
   "version": "3.8.8"
  }
 },
 "nbformat": 4,
 "nbformat_minor": 5
}
